{
 "cells": [
  {
   "cell_type": "code",
   "execution_count": 1,
   "id": "6c6d4170",
   "metadata": {},
   "outputs": [
    {
     "name": "stderr",
     "output_type": "stream",
     "text": [
      "C:\\Users\\personal\\anaconda3\\lib\\site-packages\\scipy\\__init__.py:146: UserWarning: A NumPy version >=1.16.5 and <1.23.0 is required for this version of SciPy (detected version 1.26.0\n",
      "  warnings.warn(f\"A NumPy version >={np_minversion} and <{np_maxversion}\"\n"
     ]
    }
   ],
   "source": [
    "\n",
    "import numpy as np\n",
    "import pandas as pd\n",
    "import matplotlib.pyplot as plt\n",
    "import seaborn as sns\n",
    "from sklearn.preprocessing import MinMaxScaler\n",
    "from tensorflow.keras.models import Sequential\n",
    "from tensorflow.keras.layers import LSTM, Dense, Dropout"
   ]
  },
  {
   "cell_type": "code",
   "execution_count": 2,
   "id": "52d05e9f",
   "metadata": {},
   "outputs": [
    {
     "data": {
      "text/html": [
       "<div>\n",
       "<style scoped>\n",
       "    .dataframe tbody tr th:only-of-type {\n",
       "        vertical-align: middle;\n",
       "    }\n",
       "\n",
       "    .dataframe tbody tr th {\n",
       "        vertical-align: top;\n",
       "    }\n",
       "\n",
       "    .dataframe thead th {\n",
       "        text-align: right;\n",
       "    }\n",
       "</style>\n",
       "<table border=\"1\" class=\"dataframe\">\n",
       "  <thead>\n",
       "    <tr style=\"text-align: right;\">\n",
       "      <th></th>\n",
       "      <th>Date</th>\n",
       "      <th>Open</th>\n",
       "      <th>High</th>\n",
       "      <th>Low</th>\n",
       "      <th>Close</th>\n",
       "      <th>Adj Close</th>\n",
       "      <th>Volume</th>\n",
       "    </tr>\n",
       "  </thead>\n",
       "  <tbody>\n",
       "    <tr>\n",
       "      <th>0</th>\n",
       "      <td>2020-01-02</td>\n",
       "      <td>84.900002</td>\n",
       "      <td>86.139999</td>\n",
       "      <td>84.342003</td>\n",
       "      <td>86.052002</td>\n",
       "      <td>86.052002</td>\n",
       "      <td>47660500</td>\n",
       "    </tr>\n",
       "    <tr>\n",
       "      <th>1</th>\n",
       "      <td>2020-01-03</td>\n",
       "      <td>88.099998</td>\n",
       "      <td>90.800003</td>\n",
       "      <td>87.384003</td>\n",
       "      <td>88.601997</td>\n",
       "      <td>88.601997</td>\n",
       "      <td>88892500</td>\n",
       "    </tr>\n",
       "    <tr>\n",
       "      <th>2</th>\n",
       "      <td>2020-01-06</td>\n",
       "      <td>88.094002</td>\n",
       "      <td>90.311996</td>\n",
       "      <td>88.000000</td>\n",
       "      <td>90.307999</td>\n",
       "      <td>90.307999</td>\n",
       "      <td>50665000</td>\n",
       "    </tr>\n",
       "    <tr>\n",
       "      <th>3</th>\n",
       "      <td>2020-01-07</td>\n",
       "      <td>92.279999</td>\n",
       "      <td>94.325996</td>\n",
       "      <td>90.671997</td>\n",
       "      <td>93.811996</td>\n",
       "      <td>93.811996</td>\n",
       "      <td>89410500</td>\n",
       "    </tr>\n",
       "    <tr>\n",
       "      <th>4</th>\n",
       "      <td>2020-01-08</td>\n",
       "      <td>94.739998</td>\n",
       "      <td>99.697998</td>\n",
       "      <td>93.646004</td>\n",
       "      <td>98.428001</td>\n",
       "      <td>98.428001</td>\n",
       "      <td>155721500</td>\n",
       "    </tr>\n",
       "    <tr>\n",
       "      <th>...</th>\n",
       "      <td>...</td>\n",
       "      <td>...</td>\n",
       "      <td>...</td>\n",
       "      <td>...</td>\n",
       "      <td>...</td>\n",
       "      <td>...</td>\n",
       "      <td>...</td>\n",
       "    </tr>\n",
       "    <tr>\n",
       "      <th>248</th>\n",
       "      <td>2020-12-24</td>\n",
       "      <td>642.989990</td>\n",
       "      <td>666.090027</td>\n",
       "      <td>641.000000</td>\n",
       "      <td>661.770020</td>\n",
       "      <td>661.770020</td>\n",
       "      <td>22865600</td>\n",
       "    </tr>\n",
       "    <tr>\n",
       "      <th>249</th>\n",
       "      <td>2020-12-28</td>\n",
       "      <td>674.510010</td>\n",
       "      <td>681.400024</td>\n",
       "      <td>660.799988</td>\n",
       "      <td>663.690002</td>\n",
       "      <td>663.690002</td>\n",
       "      <td>32278600</td>\n",
       "    </tr>\n",
       "    <tr>\n",
       "      <th>250</th>\n",
       "      <td>2020-12-29</td>\n",
       "      <td>661.000000</td>\n",
       "      <td>669.900024</td>\n",
       "      <td>655.000000</td>\n",
       "      <td>665.989990</td>\n",
       "      <td>665.989990</td>\n",
       "      <td>22910800</td>\n",
       "    </tr>\n",
       "    <tr>\n",
       "      <th>251</th>\n",
       "      <td>2020-12-30</td>\n",
       "      <td>672.000000</td>\n",
       "      <td>696.599976</td>\n",
       "      <td>668.359985</td>\n",
       "      <td>694.780029</td>\n",
       "      <td>694.780029</td>\n",
       "      <td>42846000</td>\n",
       "    </tr>\n",
       "    <tr>\n",
       "      <th>252</th>\n",
       "      <td>2020-12-31</td>\n",
       "      <td>699.989990</td>\n",
       "      <td>718.719971</td>\n",
       "      <td>691.119995</td>\n",
       "      <td>705.669983</td>\n",
       "      <td>705.669983</td>\n",
       "      <td>49649900</td>\n",
       "    </tr>\n",
       "  </tbody>\n",
       "</table>\n",
       "<p>253 rows × 7 columns</p>\n",
       "</div>"
      ],
      "text/plain": [
       "           Date        Open        High         Low       Close   Adj Close  \\\n",
       "0    2020-01-02   84.900002   86.139999   84.342003   86.052002   86.052002   \n",
       "1    2020-01-03   88.099998   90.800003   87.384003   88.601997   88.601997   \n",
       "2    2020-01-06   88.094002   90.311996   88.000000   90.307999   90.307999   \n",
       "3    2020-01-07   92.279999   94.325996   90.671997   93.811996   93.811996   \n",
       "4    2020-01-08   94.739998   99.697998   93.646004   98.428001   98.428001   \n",
       "..          ...         ...         ...         ...         ...         ...   \n",
       "248  2020-12-24  642.989990  666.090027  641.000000  661.770020  661.770020   \n",
       "249  2020-12-28  674.510010  681.400024  660.799988  663.690002  663.690002   \n",
       "250  2020-12-29  661.000000  669.900024  655.000000  665.989990  665.989990   \n",
       "251  2020-12-30  672.000000  696.599976  668.359985  694.780029  694.780029   \n",
       "252  2020-12-31  699.989990  718.719971  691.119995  705.669983  705.669983   \n",
       "\n",
       "        Volume  \n",
       "0     47660500  \n",
       "1     88892500  \n",
       "2     50665000  \n",
       "3     89410500  \n",
       "4    155721500  \n",
       "..         ...  \n",
       "248   22865600  \n",
       "249   32278600  \n",
       "250   22910800  \n",
       "251   42846000  \n",
       "252   49649900  \n",
       "\n",
       "[253 rows x 7 columns]"
      ]
     },
     "execution_count": 2,
     "metadata": {},
     "output_type": "execute_result"
    }
   ],
   "source": [
    "# Load the dataset\n",
    "df = pd.read_csv(\"C:/Users/personal/Downloads/TSLA.csv\")\n",
    "df"
   ]
  },
  {
   "cell_type": "code",
   "execution_count": 3,
   "id": "b968ac5c",
   "metadata": {},
   "outputs": [
    {
     "name": "stderr",
     "output_type": "stream",
     "text": [
      "C:\\Users\\personal\\AppData\\Local\\Temp\\ipykernel_1792\\2152846107.py:5: SettingWithCopyWarning: \n",
      "A value is trying to be set on a copy of a slice from a DataFrame.\n",
      "Try using .loc[row_indexer,col_indexer] = value instead\n",
      "\n",
      "See the caveats in the documentation: https://pandas.pydata.org/pandas-docs/stable/user_guide/indexing.html#returning-a-view-versus-a-copy\n",
      "  df['Date'] = pd.to_datetime(df['Date'])\n",
      "C:\\Users\\personal\\AppData\\Local\\Temp\\ipykernel_1792\\2152846107.py:15: SettingWithCopyWarning: \n",
      "A value is trying to be set on a copy of a slice from a DataFrame.\n",
      "Try using .loc[row_indexer,col_indexer] = value instead\n",
      "\n",
      "See the caveats in the documentation: https://pandas.pydata.org/pandas-docs/stable/user_guide/indexing.html#returning-a-view-versus-a-copy\n",
      "  df['Close'] = scaler.fit_transform(df['Close'].values.reshape(-1, 1))\n"
     ]
    },
    {
     "data": {
      "image/png": "[encoded data removed]",
      "text/plain": [
       "<Figure size 864x432 with 1 Axes>"
      ]
     },
     "metadata": {
      "needs_background": "light"
     },
     "output_type": "display_data"
    }
   ],
   "source": [
    "# Remove unnecessary columns\n",
    "df = df[['Date', 'Close']]\n",
    "\n",
    "# Convert 'Date' column to datetime format\n",
    "df['Date'] = pd.to_datetime(df['Date'])\n",
    "\n",
    "# Set 'Date' as the index\n",
    "df.set_index('Date', inplace=True)\n",
    "\n",
    "# Sort the data by date (if it's not already sorted)\n",
    "df.sort_index(ascending=True, inplace=True)\n",
    "\n",
    "# Normalize the data (scaling to values between 0 and 1)\n",
    "scaler = MinMaxScaler()\n",
    "df['Close'] = scaler.fit_transform(df['Close'].values.reshape(-1, 1))\n",
    "\n",
    "# Visualize the data\n",
    "plt.figure(figsize=(12, 6))\n",
    "plt.title('Normalized Stock Prices Over Time')\n",
    "plt.xlabel('Date')\n",
    "plt.ylabel('Normalized Close Price')\n",
    "plt.plot(df.index, df['Close'])\n",
    "plt.show()"
   ]
  },
  {
   "cell_type": "code",
   "execution_count": 4,
   "id": "7a926429",
   "metadata": {},
   "outputs": [],
   "source": [
    "train_size = int(len(df) * 0.8)\n",
    "train_data = df.iloc[:train_size]\n",
    "test_data = df.iloc[train_size:]"
   ]
  },
  {
   "cell_type": "code",
   "execution_count": 5,
   "id": "0e549b92",
   "metadata": {},
   "outputs": [],
   "source": [
    "def create_sequences(data, sequence_length):\n",
    "    sequences = []\n",
    "    target = []\n",
    "    \n",
    "    for i in range(len(data) - sequence_length):\n",
    "        x = data[i:i+sequence_length]\n",
    "        y = data[i:i+sequence_length]\n",
    "        sequences.append(x)\n",
    "        target.append(y)\n",
    "    \n",
    "    return np.array(sequences), np.array(target)\n",
    "\n",
    "sequence_length = 10  # Adjust this based on your preference\n",
    "X_train, y_train = create_sequences(train_data, sequence_length)\n",
    "X_test, y_test = create_sequences(test_data, sequence_length)"
   ]
  },
  {
   "cell_type": "code",
   "execution_count": 6,
   "id": "d248c08b",
   "metadata": {},
   "outputs": [],
   "source": [
    "train_size = int(len(df) * 0.8)\n",
    "train_data = df.iloc[:train_size]\n",
    "test_data = df.iloc[train_size:]"
   ]
  },
  {
   "cell_type": "code",
   "execution_count": 7,
   "id": "b6437211",
   "metadata": {},
   "outputs": [],
   "source": [
    "model = Sequential()\n",
    "\n",
    "model.add(LSTM(50, return_sequences=True, input_shape=(X_train.shape[1], 1)))\n",
    "model.add(LSTM(50, return_sequences=False))\n",
    "model.add(Dense(25))\n",
    "model.add(Dense(1))\n",
    "\n",
    "model.compile(optimizer='adam', loss='mean_squared_error')"
   ]
  },
  {
   "cell_type": "code",
   "execution_count": 8,
   "id": "3d113d5f",
   "metadata": {},
   "outputs": [
    {
     "name": "stdout",
     "output_type": "stream",
     "text": [
      "Epoch 1/50\n",
      "3/3 [==============================] - 10s 39ms/step - loss: 0.0722\n",
      "Epoch 2/50\n",
      "3/3 [==============================] - 0s 30ms/step - loss: 0.0253\n",
      "Epoch 3/50\n",
      "3/3 [==============================] - 0s 29ms/step - loss: 0.0104\n",
      "Epoch 4/50\n",
      "3/3 [==============================] - 0s 31ms/step - loss: 0.0172\n",
      "Epoch 5/50\n",
      "3/3 [==============================] - 0s 30ms/step - loss: 0.0094\n",
      "Epoch 6/50\n",
      "3/3 [==============================] - 0s 34ms/step - loss: 0.0055\n",
      "Epoch 7/50\n",
      "3/3 [==============================] - 0s 34ms/step - loss: 0.0068\n",
      "Epoch 8/50\n",
      "3/3 [==============================] - 0s 38ms/step - loss: 0.0058\n",
      "Epoch 9/50\n",
      "3/3 [==============================] - 0s 35ms/step - loss: 0.0029\n",
      "Epoch 10/50\n",
      "3/3 [==============================] - 0s 31ms/step - loss: 0.0017\n",
      "Epoch 11/50\n",
      "3/3 [==============================] - 0s 28ms/step - loss: 0.0024\n",
      "Epoch 12/50\n",
      "3/3 [==============================] - 0s 29ms/step - loss: 0.0014\n",
      "Epoch 13/50\n",
      "3/3 [==============================] - 0s 29ms/step - loss: 0.0012\n",
      "Epoch 14/50\n",
      "3/3 [==============================] - 0s 31ms/step - loss: 0.0016\n",
      "Epoch 15/50\n",
      "3/3 [==============================] - 0s 31ms/step - loss: 0.0013\n",
      "Epoch 16/50\n",
      "3/3 [==============================] - 0s 28ms/step - loss: 0.0011\n",
      "Epoch 17/50\n",
      "3/3 [==============================] - 0s 29ms/step - loss: 0.0013\n",
      "Epoch 18/50\n",
      "3/3 [==============================] - 0s 30ms/step - loss: 0.0010\n",
      "Epoch 19/50\n",
      "3/3 [==============================] - 0s 31ms/step - loss: 0.0010\n",
      "Epoch 20/50\n",
      "3/3 [==============================] - 0s 33ms/step - loss: 0.0010\n",
      "Epoch 21/50\n",
      "3/3 [==============================] - 0s 36ms/step - loss: 9.7036e-04\n",
      "Epoch 22/50\n",
      "3/3 [==============================] - 0s 35ms/step - loss: 9.8648e-04\n",
      "Epoch 23/50\n",
      "3/3 [==============================] - 0s 31ms/step - loss: 0.0010\n",
      "Epoch 24/50\n",
      "3/3 [==============================] - 0s 30ms/step - loss: 9.6548e-04\n",
      "Epoch 25/50\n",
      "3/3 [==============================] - 0s 34ms/step - loss: 9.7069e-04\n",
      "Epoch 26/50\n",
      "3/3 [==============================] - 0s 31ms/step - loss: 9.6157e-04\n",
      "Epoch 27/50\n",
      "3/3 [==============================] - 0s 29ms/step - loss: 9.4950e-04\n",
      "Epoch 28/50\n",
      "3/3 [==============================] - 0s 25ms/step - loss: 9.5814e-04\n",
      "Epoch 29/50\n",
      "3/3 [==============================] - 0s 30ms/step - loss: 9.5154e-04\n",
      "Epoch 30/50\n",
      "3/3 [==============================] - 0s 30ms/step - loss: 9.5044e-04\n",
      "Epoch 31/50\n",
      "3/3 [==============================] - 0s 30ms/step - loss: 9.5237e-04\n",
      "Epoch 32/50\n",
      "3/3 [==============================] - 0s 32ms/step - loss: 9.4821e-04\n",
      "Epoch 33/50\n",
      "3/3 [==============================] - 0s 30ms/step - loss: 9.4793e-04\n",
      "Epoch 34/50\n",
      "3/3 [==============================] - 0s 26ms/step - loss: 9.4677e-04\n",
      "Epoch 35/50\n",
      "3/3 [==============================] - 0s 26ms/step - loss: 9.4580e-04\n",
      "Epoch 36/50\n",
      "3/3 [==============================] - 0s 26ms/step - loss: 9.4616e-04\n",
      "Epoch 37/50\n",
      "3/3 [==============================] - 0s 34ms/step - loss: 9.4534e-04\n",
      "Epoch 38/50\n",
      "3/3 [==============================] - 0s 33ms/step - loss: 9.4497e-04\n",
      "Epoch 39/50\n",
      "3/3 [==============================] - 0s 31ms/step - loss: 9.4465e-04\n",
      "Epoch 40/50\n",
      "3/3 [==============================] - 0s 33ms/step - loss: 9.4406e-04\n",
      "Epoch 41/50\n",
      "3/3 [==============================] - 0s 29ms/step - loss: 9.4378e-04\n",
      "Epoch 42/50\n",
      "3/3 [==============================] - 0s 29ms/step - loss: 9.4349e-04\n",
      "Epoch 43/50\n",
      "3/3 [==============================] - 0s 30ms/step - loss: 9.4322e-04\n",
      "Epoch 44/50\n",
      "3/3 [==============================] - 0s 33ms/step - loss: 9.4288e-04\n",
      "Epoch 45/50\n",
      "3/3 [==============================] - 0s 30ms/step - loss: 9.4240e-04\n",
      "Epoch 46/50\n",
      "3/3 [==============================] - 0s 32ms/step - loss: 9.4220e-04\n",
      "Epoch 47/50\n",
      "3/3 [==============================] - 0s 29ms/step - loss: 9.4191e-04\n",
      "Epoch 48/50\n",
      "3/3 [==============================] - 0s 31ms/step - loss: 9.4200e-04\n",
      "Epoch 49/50\n",
      "3/3 [==============================] - 0s 31ms/step - loss: 9.4131e-04\n",
      "Epoch 50/50\n",
      "3/3 [==============================] - 0s 34ms/step - loss: 9.4093e-04\n"
     ]
    },
    {
     "data": {
      "text/plain": [
       "<keras.src.callbacks.History at 0x148fe81f610>"
      ]
     },
     "execution_count": 8,
     "metadata": {},
     "output_type": "execute_result"
    }
   ],
   "source": [
    "model.fit(X_train, y_train, batch_size=64, epochs=50)"
   ]
  },
  {
   "cell_type": "code",
   "execution_count": 9,
   "id": "23d14c65",
   "metadata": {},
   "outputs": [
    {
     "name": "stdout",
     "output_type": "stream",
     "text": [
      "Test Loss: 0.0021888702176511288\n"
     ]
    }
   ],
   "source": [
    "test_loss = model.evaluate(X_test, y_test, verbose=0)\n",
    "print(f'Test Loss: {test_loss}')"
   ]
  },
  {
   "cell_type": "code",
   "execution_count": 10,
   "id": "4d24398e",
   "metadata": {},
   "outputs": [
    {
     "name": "stdout",
     "output_type": "stream",
     "text": [
      "2/2 [==============================] - 2s 8ms/step\n"
     ]
    }
   ],
   "source": [
    "y_pred = model.predict(X_test)"
   ]
  },
  {
   "cell_type": "code",
   "execution_count": 11,
   "id": "de8f64e0",
   "metadata": {},
   "outputs": [
    {
     "name": "stdout",
     "output_type": "stream",
     "text": [
      "2/2 [==============================] - 0s 11ms/step\n"
     ]
    }
   ],
   "source": [
    "y_pred = model.predict(X_test)"
   ]
  },
  {
   "cell_type": "code",
   "execution_count": 12,
   "id": "1cc75024",
   "metadata": {},
   "outputs": [
    {
     "data": {
      "text/plain": [
       "array([[0.54450864],\n",
       "       [0.541768  ],\n",
       "       [0.5399605 ],\n",
       "       [0.5398646 ],\n",
       "       [0.54152316],\n",
       "       [0.54328257],\n",
       "       [0.5436285 ],\n",
       "       [0.5462706 ],\n",
       "       [0.54744804],\n",
       "       [0.55073154],\n",
       "       [0.5512935 ],\n",
       "       [0.5505838 ],\n",
       "       [0.55527705],\n",
       "       [0.5623543 ],\n",
       "       [0.5733201 ],\n",
       "       [0.5894142 ],\n",
       "       [0.6117443 ],\n",
       "       [0.6373227 ],\n",
       "       [0.66682076],\n",
       "       [0.696793  ],\n",
       "       [0.7269967 ],\n",
       "       [0.7507644 ],\n",
       "       [0.7684827 ],\n",
       "       [0.7848478 ],\n",
       "       [0.80538654],\n",
       "       [0.8237034 ],\n",
       "       [0.83575326],\n",
       "       [0.8455816 ],\n",
       "       [0.8527265 ],\n",
       "       [0.8633823 ],\n",
       "       [0.8716061 ],\n",
       "       [0.8809614 ],\n",
       "       [0.8882218 ],\n",
       "       [0.89843786],\n",
       "       [0.9024919 ],\n",
       "       [0.9048129 ],\n",
       "       [0.9129014 ],\n",
       "       [0.91818565],\n",
       "       [0.9260301 ],\n",
       "       [0.929954  ],\n",
       "       [0.93697876]], dtype=float32)"
      ]
     },
     "execution_count": 12,
     "metadata": {},
     "output_type": "execute_result"
    }
   ],
   "source": [
    "\n",
    "y_pred"
   ]
  },
  {
   "cell_type": "code",
   "execution_count": 13,
   "id": "ab216a55",
   "metadata": {},
   "outputs": [
    {
     "data": {
      "image/png": "[encoded data removed]",
      "text/plain": [
       "<Figure size 864x432 with 1 Axes>"
      ]
     },
     "metadata": {
      "needs_background": "light"
     },
     "output_type": "display_data"
    }
   ],
   "source": [
    "plt.figure(figsize=(12, 6))\n",
    "plt.title('Stock Price Prediction')\n",
    "plt.xlabel('Date')\n",
    "plt.ylabel('Normalized Close Price')\n",
    "\n",
    "# Plot the actual stock prices\n",
    "plt.plot(test_data.index[sequence_length:], test_data['Close'][sequence_length:], label='Actual', color='blue')\n",
    "\n",
    "# Plot the predicted stock prices\n",
    "plt.plot(test_data.index[sequence_length:], y_pred, label='Predicted', color='orange')\n",
    "\n",
    "plt.legend()\n",
    "plt.show()"
   ]
  },
  {
   "cell_type": "code",
   "execution_count": null,
   "id": "e0918349",
   "metadata": {},
   "outputs": [],
   "source": []
  }
 ],
 "metadata": {
  "kernelspec": {
   "display_name": "Python 3 (ipykernel)",
   "language": "python",
   "name": "python3"
  },
  "language_info": {
   "codemirror_mode": {
    "name": "ipython",
    "version": 3
   },
   "file_extension": ".py",
   "mimetype": "text/x-python",
   "name": "python",
   "nbconvert_exporter": "python",
   "pygments_lexer": "ipython3",
   "version": "3.9.12"
  }
 },
 "nbformat": 4,
 "nbformat_minor": 5
}
